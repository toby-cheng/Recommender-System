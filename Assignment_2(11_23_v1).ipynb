{
 "cells": [
  {
   "cell_type": "markdown",
   "metadata": {},
   "source": [
    "# Assignment 2 (Steam)"
   ]
  },
  {
   "cell_type": "markdown",
   "metadata": {},
   "source": [
    "### 0. Import packages and define functions"
   ]
  },
  {
   "cell_type": "code",
   "execution_count": 2,
   "metadata": {},
   "outputs": [],
   "source": [
    "# Import any packages here\n",
    "import gzip\n",
    "import pandas as pd\n",
    "import random\n",
    "from collections import defaultdict\n",
    "import numpy as np\n",
    "from random import choice\n",
    "from matplotlib import pyplot as plt"
   ]
  },
  {
   "cell_type": "code",
   "execution_count": 3,
   "metadata": {},
   "outputs": [],
   "source": [
    "# Define any functions here\n",
    "def readCSV(path):\n",
    "    f = gzip.open(path, 'rt', encoding=\"utf8\")\n",
    "    values = []\n",
    "    for line in f:\n",
    "        fields = eval(line)\n",
    "        values.append(fields)\n",
    "    return values"
   ]
  },
  {
   "cell_type": "markdown",
   "metadata": {},
   "source": [
    "### 1. Read Data"
   ]
  },
  {
   "cell_type": "code",
   "execution_count": 4,
   "metadata": {},
   "outputs": [
    {
     "data": {
      "text/html": [
       "<div>\n",
       "<style scoped>\n",
       "    .dataframe tbody tr th:only-of-type {\n",
       "        vertical-align: middle;\n",
       "    }\n",
       "\n",
       "    .dataframe tbody tr th {\n",
       "        vertical-align: top;\n",
       "    }\n",
       "\n",
       "    .dataframe thead th {\n",
       "        text-align: right;\n",
       "    }\n",
       "</style>\n",
       "<table border=\"1\" class=\"dataframe\">\n",
       "  <thead>\n",
       "    <tr style=\"text-align: right;\">\n",
       "      <th></th>\n",
       "      <th>user_id</th>\n",
       "      <th>item_id</th>\n",
       "      <th>review</th>\n",
       "      <th>time_posted</th>\n",
       "    </tr>\n",
       "  </thead>\n",
       "  <tbody>\n",
       "    <tr>\n",
       "      <th>0</th>\n",
       "      <td>76561198085013601</td>\n",
       "      <td>250320</td>\n",
       "      <td>Great game, terrible save system...</td>\n",
       "      <td>February 27.</td>\n",
       "    </tr>\n",
       "    <tr>\n",
       "      <th>1</th>\n",
       "      <td>76561198142474106</td>\n",
       "      <td>363620</td>\n",
       "      <td>would be yes if this game didnt cost more than...</td>\n",
       "      <td>December 7, 2015.</td>\n",
       "    </tr>\n",
       "    <tr>\n",
       "      <th>2</th>\n",
       "      <td>bentan312</td>\n",
       "      <td>440</td>\n",
       "      <td>Slapped a guy with a fish.10/10 would do again.</td>\n",
       "      <td>July 29, 2014.</td>\n",
       "    </tr>\n",
       "    <tr>\n",
       "      <th>3</th>\n",
       "      <td>potatoskins</td>\n",
       "      <td>233270</td>\n",
       "      <td>bright colors hurt my eyes10/10 must buy</td>\n",
       "      <td>August 21.</td>\n",
       "    </tr>\n",
       "    <tr>\n",
       "      <th>4</th>\n",
       "      <td>Mineturdle321</td>\n",
       "      <td>208090</td>\n",
       "      <td>stupidly addictive</td>\n",
       "      <td>January 31, 2014.</td>\n",
       "    </tr>\n",
       "  </tbody>\n",
       "</table>\n",
       "</div>"
      ],
      "text/plain": [
       "             user_id item_id  \\\n",
       "0  76561198085013601  250320   \n",
       "1  76561198142474106  363620   \n",
       "2          bentan312     440   \n",
       "3        potatoskins  233270   \n",
       "4      Mineturdle321  208090   \n",
       "\n",
       "                                              review        time_posted  \n",
       "0                Great game, terrible save system...       February 27.  \n",
       "1  would be yes if this game didnt cost more than...  December 7, 2015.  \n",
       "2    Slapped a guy with a fish.10/10 would do again.     July 29, 2014.  \n",
       "3           bright colors hurt my eyes10/10 must buy         August 21.  \n",
       "4                                 stupidly addictive  January 31, 2014.  "
      ]
     },
     "execution_count": 4,
     "metadata": {},
     "output_type": "execute_result"
    }
   ],
   "source": [
    "# Load review data\n",
    "reviews = readCSV(\"australian_user_reviews.json.gz\")\n",
    "# Retrieve needed columns from review data\n",
    "user_id, item_id, review, time_posted = [],[],[],[]\n",
    "for user in reviews:\n",
    "    uid = user['user_id']\n",
    "    for item in user['reviews']:\n",
    "        user_id.append(uid)\n",
    "        item_id.append(item['item_id'])\n",
    "        review.append(item['review'])\n",
    "        time_posted.append(item['posted'][7:])\n",
    "# Shuffle review data\n",
    "zip_review = list(zip(user_id, item_id, review, time_posted))\n",
    "random.seed(1234)\n",
    "random.shuffle(zip_review)\n",
    "# Format review data into a dataframe\n",
    "all_review = pd.DataFrame({'user_id':list(d[0] for d in zip_review), 'item_id':list(d[1] for d in zip_review),\n",
    "                           'review':list(d[2] for d in zip_review),'time_posted':list(d[3] for d in zip_review)})\n",
    "# Show what review data look like\n",
    "all_review[:5]"
   ]
  },
  {
   "cell_type": "code",
   "execution_count": null,
   "metadata": {},
   "outputs": [],
   "source": []
  },
  {
   "cell_type": "code",
   "execution_count": 9,
   "metadata": {},
   "outputs": [
    {
     "data": {
      "text/html": [
       "<div>\n",
       "<style scoped>\n",
       "    .dataframe tbody tr th:only-of-type {\n",
       "        vertical-align: middle;\n",
       "    }\n",
       "\n",
       "    .dataframe tbody tr th {\n",
       "        vertical-align: top;\n",
       "    }\n",
       "\n",
       "    .dataframe thead th {\n",
       "        text-align: right;\n",
       "    }\n",
       "</style>\n",
       "<table border=\"1\" class=\"dataframe\">\n",
       "  <thead>\n",
       "    <tr style=\"text-align: right;\">\n",
       "      <th></th>\n",
       "      <th>user_id</th>\n",
       "      <th>item_id</th>\n",
       "      <th>item_name</th>\n",
       "      <th>play_time</th>\n",
       "    </tr>\n",
       "  </thead>\n",
       "  <tbody>\n",
       "    <tr>\n",
       "      <th>0</th>\n",
       "      <td>76561198070316224</td>\n",
       "      <td>301520</td>\n",
       "      <td>Robocraft</td>\n",
       "      <td>3</td>\n",
       "    </tr>\n",
       "    <tr>\n",
       "      <th>1</th>\n",
       "      <td>best_luck_ever</td>\n",
       "      <td>320</td>\n",
       "      <td>Half-Life 2: Deathmatch</td>\n",
       "      <td>0</td>\n",
       "    </tr>\n",
       "    <tr>\n",
       "      <th>2</th>\n",
       "      <td>76561198071743525</td>\n",
       "      <td>238460</td>\n",
       "      <td>BattleBlock Theater</td>\n",
       "      <td>227</td>\n",
       "    </tr>\n",
       "    <tr>\n",
       "      <th>3</th>\n",
       "      <td>76561197994851773</td>\n",
       "      <td>730</td>\n",
       "      <td>Counter-Strike: Global Offensive</td>\n",
       "      <td>3005</td>\n",
       "    </tr>\n",
       "    <tr>\n",
       "      <th>4</th>\n",
       "      <td>lecomptedelric</td>\n",
       "      <td>219640</td>\n",
       "      <td>Chivalry: Medieval Warfare</td>\n",
       "      <td>1856</td>\n",
       "    </tr>\n",
       "  </tbody>\n",
       "</table>\n",
       "</div>"
      ],
      "text/plain": [
       "             user_id item_id                         item_name  play_time\n",
       "0  76561198070316224  301520                         Robocraft          3\n",
       "1     best_luck_ever     320           Half-Life 2: Deathmatch          0\n",
       "2  76561198071743525  238460               BattleBlock Theater        227\n",
       "3  76561197994851773     730  Counter-Strike: Global Offensive       3005\n",
       "4     lecomptedelric  219640        Chivalry: Medieval Warfare       1856"
      ]
     },
     "execution_count": 9,
     "metadata": {},
     "output_type": "execute_result"
    }
   ],
   "source": [
    "# Load user data\n",
    "aus_users = readCSV(\"australian_users_items.json.gz\")\n",
    "# Retrieve needed columns from user data\n",
    "user_id, item_id, item_name, play_time = [],[],[],[]\n",
    "for user in aus_users:\n",
    "    uid = user['user_id']\n",
    "    for item in user['items']:\n",
    "        user_id.append(uid)\n",
    "        item_id.append(item['item_id'])\n",
    "        item_name.append(item['item_name'])\n",
    "        play_time.append(int(item['playtime_forever']))\n",
    "# Shuffle user data\n",
    "zip_data = list(zip(user_id, item_id, item_name, play_time))\n",
    "random.shuffle(zip_data)\n",
    "# Format user data into a dataframe\n",
    "all_user = pd.DataFrame({'user_id':list(d[0] for d in zip_data),'item_id':list(d[1] for d in zip_data),\n",
    "                         'item_name':list(d[2] for d in zip_data),'play_time':list(d[3] for d in zip_data)})\n",
    "# Show what user data look like\n",
    "all_user[:5]"
   ]
  },
  {
   "cell_type": "markdown",
   "metadata": {},
   "source": [
    "### 2. Split data"
   ]
  },
  {
   "cell_type": "code",
   "execution_count": 10,
   "metadata": {},
   "outputs": [],
   "source": [
    "## Split data into training set, validation set and test set\n",
    "train_user, valid_user, test_user = np.split(all_user.sample(frac=1), [int(.6*len(all_user)), int(.8*len(all_user))])\n",
    "## Create dictionaries\n",
    "itemsPerUser, usersPerItem = defaultdict(list), defaultdict(list)\n",
    "for i in range(0, len(train_user)):\n",
    "    u = train_user.iloc[i,0]\n",
    "    i = train_user.iloc[i,1]\n",
    "    itemsPerUser[u].append(i)\n",
    "    usersPerItem[i].append(u)\n",
    "n_user = len(itemsPerUser.keys())\n",
    "n_item = len(usersPerItem.keys())\n",
    "\n",
    "# 先别看这里！！！都是没用的code\n",
    "# unread_book = []\n",
    "# for i in range(0, len(valid_data)):\n",
    "#     array = list(set(all_book)-set(valid_data.iloc[i,1]))\n",
    "#     unread_book.append(choice(array))\n",
    "    \n",
    "# add_data = pd.DataFrame({'user': valid_user,\n",
    "#                          'book': unread_book,\n",
    "#                          'read': 0})\n",
    "# valid = valid_data.append(add_data)"
   ]
  },
  {
   "cell_type": "code",
   "execution_count": 16,
   "metadata": {},
   "outputs": [
    {
     "data": {
      "text/plain": [
       "1030642"
      ]
     },
     "execution_count": 16,
     "metadata": {},
     "output_type": "execute_result"
    }
   ],
   "source": [
    "len(test_user)"
   ]
  },
  {
   "cell_type": "raw",
   "metadata": {},
   "source": []
  },
  {
   "cell_type": "code",
   "execution_count": 11,
   "metadata": {},
   "outputs": [
    {
     "data": {
      "text/plain": [
       "(69134, 10587)"
      ]
     },
     "execution_count": 11,
     "metadata": {},
     "output_type": "execute_result"
    }
   ],
   "source": [
    "n_user,n_item"
   ]
  },
  {
   "cell_type": "code",
   "execution_count": null,
   "metadata": {},
   "outputs": [],
   "source": []
  }
 ],
 "metadata": {
  "kernelspec": {
   "display_name": "Python 3",
   "language": "python",
   "name": "python3"
  },
  "language_info": {
   "codemirror_mode": {
    "name": "ipython",
    "version": 3
   },
   "file_extension": ".py",
   "mimetype": "text/x-python",
   "name": "python",
   "nbconvert_exporter": "python",
   "pygments_lexer": "ipython3",
   "version": "3.6.8"
  }
 },
 "nbformat": 4,
 "nbformat_minor": 4
}
