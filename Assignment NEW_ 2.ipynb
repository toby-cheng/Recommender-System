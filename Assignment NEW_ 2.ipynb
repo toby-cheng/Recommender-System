{
 "cells": [
  {
   "cell_type": "markdown",
   "metadata": {},
   "source": [
    "# Assignment 2 (Steam)"
   ]
  },
  {
   "cell_type": "markdown",
   "metadata": {},
   "source": [
    "### 0. Import packages and define functions"
   ]
  },
  {
   "cell_type": "code",
   "execution_count": 1,
   "metadata": {},
   "outputs": [],
   "source": [
    "# Import any packages here\n",
    "import gzip\n",
    "import pandas as pd\n",
    "import random\n",
    "from collections import defaultdict\n",
    "import numpy as np\n",
    "from random import choice\n",
    "from matplotlib import pyplot as plt\n",
    "from sklearn import linear_model\n",
    "import math"
   ]
  },
  {
   "cell_type": "code",
   "execution_count": 2,
   "metadata": {},
   "outputs": [],
   "source": [
    "# Define any functions here\n",
    "def readCSV(path):\n",
    "    f = gzip.open(path, 'rt', encoding=\"utf8\")\n",
    "    values = []\n",
    "    for line in f:\n",
    "        fields = eval(line)\n",
    "        values.append(fields)\n",
    "    return values\n",
    "\n",
    "def accuracy(pred, y):\n",
    "    TP = sum(np.logical_and(pred, y))\n",
    "    FP = sum(np.logical_and(pred, np.logical_not(y)))\n",
    "    TN = sum(np.logical_and(np.logical_not(pred), np.logical_not(y)))\n",
    "    FN = sum(np.logical_and(np.logical_not(pred), y))\n",
    "    value = (TP + TN) / (TP + FP + TN + FN)\n",
    "    return value\n",
    "\n",
    "def Jaccard(s1, s2):\n",
    "    numer = len(s1.intersection(s2))\n",
    "    denom = len(s1.union(s2))\n",
    "    if denom == 0:\n",
    "        return(0)\n",
    "    else:\n",
    "        return(numer/denom)\n",
    "\n",
    "def MSE(predict,y_data):\n",
    "    diff = predict-np.matrix(y_data)\n",
    "    differences = [diff[0,i]**2 for i in range(diff.shape[1])]\n",
    "    mse_test = sum(differences)/len(differences)\n",
    "    return mse_test"
   ]
  },
  {
   "cell_type": "markdown",
   "metadata": {},
   "source": [
    "### 1. Read Data"
   ]
  },
  {
   "cell_type": "code",
   "execution_count": 3,
   "metadata": {},
   "outputs": [
    {
     "data": {
      "text/html": [
       "<div>\n",
       "<style scoped>\n",
       "    .dataframe tbody tr th:only-of-type {\n",
       "        vertical-align: middle;\n",
       "    }\n",
       "\n",
       "    .dataframe tbody tr th {\n",
       "        vertical-align: top;\n",
       "    }\n",
       "\n",
       "    .dataframe thead th {\n",
       "        text-align: right;\n",
       "    }\n",
       "</style>\n",
       "<table border=\"1\" class=\"dataframe\">\n",
       "  <thead>\n",
       "    <tr style=\"text-align: right;\">\n",
       "      <th></th>\n",
       "      <th>user_id</th>\n",
       "      <th>item_id</th>\n",
       "      <th>review</th>\n",
       "      <th>time_posted</th>\n",
       "    </tr>\n",
       "  </thead>\n",
       "  <tbody>\n",
       "    <tr>\n",
       "      <th>0</th>\n",
       "      <td>76561198085013601</td>\n",
       "      <td>250320</td>\n",
       "      <td>Great game, terrible save system...</td>\n",
       "      <td>February 27.</td>\n",
       "    </tr>\n",
       "    <tr>\n",
       "      <th>1</th>\n",
       "      <td>76561198142474106</td>\n",
       "      <td>363620</td>\n",
       "      <td>would be yes if this game didnt cost more than...</td>\n",
       "      <td>December 7, 2015.</td>\n",
       "    </tr>\n",
       "    <tr>\n",
       "      <th>2</th>\n",
       "      <td>bentan312</td>\n",
       "      <td>440</td>\n",
       "      <td>Slapped a guy with a fish.10/10 would do again.</td>\n",
       "      <td>July 29, 2014.</td>\n",
       "    </tr>\n",
       "    <tr>\n",
       "      <th>3</th>\n",
       "      <td>potatoskins</td>\n",
       "      <td>233270</td>\n",
       "      <td>bright colors hurt my eyes10/10 must buy</td>\n",
       "      <td>August 21.</td>\n",
       "    </tr>\n",
       "    <tr>\n",
       "      <th>4</th>\n",
       "      <td>Mineturdle321</td>\n",
       "      <td>208090</td>\n",
       "      <td>stupidly addictive</td>\n",
       "      <td>January 31, 2014.</td>\n",
       "    </tr>\n",
       "  </tbody>\n",
       "</table>\n",
       "</div>"
      ],
      "text/plain": [
       "             user_id item_id  \\\n",
       "0  76561198085013601  250320   \n",
       "1  76561198142474106  363620   \n",
       "2          bentan312     440   \n",
       "3        potatoskins  233270   \n",
       "4      Mineturdle321  208090   \n",
       "\n",
       "                                              review        time_posted  \n",
       "0                Great game, terrible save system...       February 27.  \n",
       "1  would be yes if this game didnt cost more than...  December 7, 2015.  \n",
       "2    Slapped a guy with a fish.10/10 would do again.     July 29, 2014.  \n",
       "3           bright colors hurt my eyes10/10 must buy         August 21.  \n",
       "4                                 stupidly addictive  January 31, 2014.  "
      ]
     },
     "execution_count": 3,
     "metadata": {},
     "output_type": "execute_result"
    }
   ],
   "source": [
    "# Load review data\n",
    "reviews = readCSV(\"australian_user_reviews.json.gz\")\n",
    "# Retrieve needed columns from review data\n",
    "user_id, item_id, review, time_posted = [],[],[],[]\n",
    "for user in reviews:\n",
    "    uid = user['user_id']\n",
    "    for item in user['reviews']:\n",
    "        user_id.append(uid)\n",
    "        item_id.append(item['item_id'])\n",
    "        review.append(item['review'])\n",
    "        time_posted.append(item['posted'][7:])\n",
    "# Shuffle review data\n",
    "zip_review = list(zip(user_id, item_id, review, time_posted))\n",
    "random.seed(1234)\n",
    "random.shuffle(zip_review)\n",
    "# Format review data into a dataframe\n",
    "all_review = pd.DataFrame({'user_id':list(d[0] for d in zip_review), 'item_id':list(d[1] for d in zip_review),\n",
    "                           'review':list(d[2] for d in zip_review),'time_posted':list(d[3] for d in zip_review)})\n",
    "# Show what review data look like\n",
    "all_review[:5]"
   ]
  },
  {
   "cell_type": "code",
   "execution_count": 4,
   "metadata": {},
   "outputs": [
    {
     "data": {
      "text/plain": [
       "59305"
      ]
     },
     "execution_count": 4,
     "metadata": {},
     "output_type": "execute_result"
    }
   ],
   "source": [
    "len(all_review)"
   ]
  },
  {
   "cell_type": "code",
   "execution_count": 5,
   "metadata": {},
   "outputs": [
    {
     "data": {
      "text/html": [
       "<div>\n",
       "<style scoped>\n",
       "    .dataframe tbody tr th:only-of-type {\n",
       "        vertical-align: middle;\n",
       "    }\n",
       "\n",
       "    .dataframe tbody tr th {\n",
       "        vertical-align: top;\n",
       "    }\n",
       "\n",
       "    .dataframe thead th {\n",
       "        text-align: right;\n",
       "    }\n",
       "</style>\n",
       "<table border=\"1\" class=\"dataframe\">\n",
       "  <thead>\n",
       "    <tr style=\"text-align: right;\">\n",
       "      <th></th>\n",
       "      <th>user_id</th>\n",
       "      <th>item_id</th>\n",
       "      <th>item_name</th>\n",
       "      <th>play_time</th>\n",
       "    </tr>\n",
       "  </thead>\n",
       "  <tbody>\n",
       "    <tr>\n",
       "      <th>0</th>\n",
       "      <td>76561198070316224</td>\n",
       "      <td>301520</td>\n",
       "      <td>Robocraft</td>\n",
       "      <td>3</td>\n",
       "    </tr>\n",
       "    <tr>\n",
       "      <th>1</th>\n",
       "      <td>best_luck_ever</td>\n",
       "      <td>320</td>\n",
       "      <td>Half-Life 2: Deathmatch</td>\n",
       "      <td>0</td>\n",
       "    </tr>\n",
       "    <tr>\n",
       "      <th>2</th>\n",
       "      <td>76561198071743525</td>\n",
       "      <td>238460</td>\n",
       "      <td>BattleBlock Theater</td>\n",
       "      <td>227</td>\n",
       "    </tr>\n",
       "    <tr>\n",
       "      <th>3</th>\n",
       "      <td>76561197994851773</td>\n",
       "      <td>730</td>\n",
       "      <td>Counter-Strike: Global Offensive</td>\n",
       "      <td>3005</td>\n",
       "    </tr>\n",
       "    <tr>\n",
       "      <th>4</th>\n",
       "      <td>lecomptedelric</td>\n",
       "      <td>219640</td>\n",
       "      <td>Chivalry: Medieval Warfare</td>\n",
       "      <td>1856</td>\n",
       "    </tr>\n",
       "  </tbody>\n",
       "</table>\n",
       "</div>"
      ],
      "text/plain": [
       "             user_id item_id                         item_name  play_time\n",
       "0  76561198070316224  301520                         Robocraft          3\n",
       "1     best_luck_ever     320           Half-Life 2: Deathmatch          0\n",
       "2  76561198071743525  238460               BattleBlock Theater        227\n",
       "3  76561197994851773     730  Counter-Strike: Global Offensive       3005\n",
       "4     lecomptedelric  219640        Chivalry: Medieval Warfare       1856"
      ]
     },
     "execution_count": 5,
     "metadata": {},
     "output_type": "execute_result"
    }
   ],
   "source": [
    "# Load user data\n",
    "aus_users = readCSV(\"australian_users_items.json.gz\")\n",
    "# Retrieve needed columns from user data\n",
    "user_id, item_id, item_name, play_time = [],[],[],[]\n",
    "for user in aus_users:\n",
    "    uid = user['user_id']\n",
    "    for item in user['items']:\n",
    "        user_id.append(uid)\n",
    "        item_id.append(item['item_id'])\n",
    "        item_name.append(item['item_name'])\n",
    "        play_time.append(int(item['playtime_forever']))\n",
    "# Shuffle user data\n",
    "zip_data = list(zip(user_id, item_id, item_name, play_time))\n",
    "random.shuffle(zip_data)\n",
    "# Format user data into a dataframe\n",
    "all_user_data = pd.DataFrame({'user_id':list(d[0] for d in zip_data),'item_id':list(d[1] for d in zip_data),\n",
    "                         'item_name':list(d[2] for d in zip_data),'play_time':list(d[3] for d in zip_data)})\n",
    "# Show what user data look like\n",
    "all_user_data = all_user_data[:800000]\n",
    "all_user_data[:5]"
   ]
  },
  {
   "cell_type": "markdown",
   "metadata": {},
   "source": [
    "### 2. Split data"
   ]
  },
  {
   "cell_type": "code",
   "execution_count": 6,
   "metadata": {},
   "outputs": [],
   "source": [
    "## Split data into training set, validation set and test set(0.6,0.2,0.2)\n",
    "train_user, valid_user, test_user = np.split(all_user_data.sample(frac=1), [int(.6*len(all_user_data)), int(.8*len(all_user_data))])\n",
    "## Create dictionaries\n",
    "itemsPerUser, usersPerItem = defaultdict(list), defaultdict(list)\n",
    "itemCount, usersPlayTime, usersItemCount, usersReview = defaultdict(int), defaultdict(int), defaultdict(int), defaultdict(int)\n",
    "for m in range(0, len(train_user)):\n",
    "    u = train_user.iloc[m,0]\n",
    "    i = train_user.iloc[m,1]\n",
    "    t = train_user.iloc[m,3]\n",
    "    itemsPerUser[u].append(i)\n",
    "    usersPerItem[i].append(u)\n",
    "    itemCount[i] += 1\n",
    "    usersItemCount[u] += 1\n",
    "    usersPlayTime[u] += int(t)\n",
    "n_user = len(itemsPerUser.keys())\n",
    "n_item = len(usersPerItem.keys())\n",
    "all_item = list(usersPerItem.keys())\n",
    "all_user = list(itemsPerUser.keys())\n",
    "for m in range(0, len(reviews)):\n",
    "    u = train_user.iloc[m,0]\n",
    "    usersReview[u] += 1\n",
    "## Build validation dataset(randomly sample)\n",
    "valid_u, unbuy = [],[]\n",
    "all_item_set = set(all_item)\n",
    "itemsPerUser_set = set(itemsPerUser)\n",
    "for i in range(0, len(valid_user)):\n",
    "    user = valid_user.iloc[i,0]\n",
    "    array = list(all_item_set.difference(set(itemsPerUser[user])))\n",
    "    unbuy.append(choice(array))\n",
    "    valid_u.append(user)\n",
    "valid_data = pd.DataFrame({'user': valid_u,'item': list(valid_user.loc[:, 'item_id']),'buy': 1})\n",
    "add_data = pd.DataFrame({'user': valid_u,'item': unbuy,'buy': 0})\n",
    "valid = valid_data.append(add_data)\n",
    "## Retrieve the most popular items\n",
    "mostPopular = [(itemCount[x], x) for x in itemCount]\n",
    "mostPopular.sort()\n",
    "mostPopular.reverse()"
   ]
  },
  {
   "cell_type": "code",
   "execution_count": 7,
   "metadata": {},
   "outputs": [],
   "source": [
    "## Create dictionary for review dataset\n",
    "usersReview = defaultdict(int)\n",
    "for m in range(0, len(reviews)):\n",
    "    u = train_user.iloc[m,0]\n",
    "    usersReview[u] += 1"
   ]
  },
  {
   "cell_type": "code",
   "execution_count": 8,
   "metadata": {},
   "outputs": [
    {
     "data": {
      "text/plain": [
       "(58143, 8613)"
      ]
     },
     "execution_count": 8,
     "metadata": {},
     "output_type": "execute_result"
    }
   ],
   "source": [
    "## Total number of users and items\n",
    "n_user,n_item"
   ]
  },
  {
   "cell_type": "code",
   "execution_count": 9,
   "metadata": {},
   "outputs": [],
   "source": [
    "## Shuffle validation set\n",
    "valid = valid.sample(frac=1).reset_index(drop=True)"
   ]
  },
  {
   "cell_type": "markdown",
   "metadata": {},
   "source": [
    "## 3.Build model and validate"
   ]
  },
  {
   "cell_type": "markdown",
   "metadata": {},
   "source": [
    "### 3.1 Baseline model(Half popular only)"
   ]
  },
  {
   "cell_type": "code",
   "execution_count": 10,
   "metadata": {},
   "outputs": [
    {
     "data": {
      "text/plain": [
       "0.733840625"
      ]
     },
     "execution_count": 10,
     "metadata": {},
     "output_type": "execute_result"
    }
   ],
   "source": [
    "## Get accuracy for baseline model (Get the most popular games from our userbase, if game is in top 50% of popular games, predict the user will have bought it)\n",
    "itemset = set()\n",
    "count = 0\n",
    "for ic, i in mostPopular:\n",
    "    count += ic\n",
    "    itemset.add(i)\n",
    "    if count > int(len(train_user)/2): break\n",
    "predict = []\n",
    "for i in range(0, len(valid)):\n",
    "    if valid.iloc[i,1] in itemset:\n",
    "        predict.append(1)\n",
    "    else:\n",
    "        predict.append(0)\n",
    "n = accuracy(predict, valid[\"buy\"].tolist())\n",
    "n"
   ]
  },
  {
   "cell_type": "markdown",
   "metadata": {},
   "source": [
    "### 3.2 Adjusted popular"
   ]
  },
  {
   "cell_type": "code",
   "execution_count": 11,
   "metadata": {},
   "outputs": [],
   "source": [
    "## Get accuracy for different popu thresholds \n",
    "performance = []\n",
    "for per in np.arange(0.6, 1, 0.05):\n",
    "    itemset = set()\n",
    "    count = 0\n",
    "    for ic, i in mostPopular:\n",
    "        count += ic\n",
    "        itemset.add(i)\n",
    "        if count > int(len(train_user)*per): break\n",
    "    predict = []\n",
    "    for i in range(0, len(valid)):\n",
    "        if valid.iloc[i,1] in itemset:\n",
    "            predict.append(1)\n",
    "        else:\n",
    "            predict.append(0)\n",
    "    n = accuracy(predict, valid[\"buy\"].tolist())\n",
    "    performance.append(n)"
   ]
  },
  {
   "cell_type": "code",
   "execution_count": 12,
   "metadata": {},
   "outputs": [
    {
     "data": {
      "image/png": "[encoded data removed]",
      "text/plain": [
       "<Figure size 432x288 with 1 Axes>"
      ]
     },
     "metadata": {
      "needs_background": "light"
     },
     "output_type": "display_data"
    }
   ],
   "source": [
    "# plot accuracy\n",
    "percentile = np.arange(0.6, 1, 0.05)\n",
    "plt.plot(percentile,performance,label = \"accuracy\")\n",
    "plt.xlabel(\"Percentile\")\n",
    "plt.ylabel(\"Accuracy\")\n",
    "plt.xticks(percentile)\n",
    "plt.legend(loc=\"upper right\")\n",
    "plt.title(\"Popularity Model Accuracy with varying Popularity Thresholds\")\n",
    "plt.show()"
   ]
  },
  {
   "cell_type": "code",
   "execution_count": 13,
   "metadata": {},
   "outputs": [
    {
     "name": "stdout",
     "output_type": "stream",
     "text": [
      "A better threshold is 85.0 %, and the accuracy is 0.8337625\n"
     ]
    }
   ],
   "source": [
    "p1 = percentile[performance.index(max(performance))]\n",
    "print('A better threshold is', round(p1*100,2), '%, and the accuracy is', max(performance))"
   ]
  },
  {
   "cell_type": "markdown",
   "metadata": {},
   "source": [
    "### 3.3 Jaccard similarity only"
   ]
  },
  {
   "cell_type": "code",
   "execution_count": 14,
   "metadata": {},
   "outputs": [],
   "source": [
    "## Calculate average similarities\n",
    "avg_sim = []\n",
    "for i in range(0, len(valid)):\n",
    "    user = valid.iloc[i,0]\n",
    "    item = valid.iloc[i,1]\n",
    "    sim = []\n",
    "    if user in all_user:\n",
    "        for items in itemsPerUser[user]: #for every item the user has bought\n",
    "            s1 = set(usersPerItem[item]) #users that have bought concerned item\n",
    "            s2 = set(usersPerItem[items]) #users that have bought the item the user has already bought\n",
    "            value = Jaccard(s1, s2)\n",
    "            sim.append(value) #Jaccard similarity between users that have bought concerned item and the item that the user has already bought\n",
    "        v = np.mean(sim) #Mean jaccard similarity\n",
    "    else:\n",
    "        v = avg_sim[-1]\n",
    "    avg_sim.append(v)"
   ]
  },
  {
   "cell_type": "code",
   "execution_count": 15,
   "metadata": {},
   "outputs": [],
   "source": [
    "## Get accuracy for different thresholds\n",
    "performance = []\n",
    "for threshold in np.arange(0, 0.01, 0.002):\n",
    "    predict = [d>threshold for d in avg_sim] #threshold for mean jaccard similarity\n",
    "    n = accuracy(predict, valid[\"buy\"].tolist())\n",
    "    performance.append(n)"
   ]
  },
  {
   "cell_type": "code",
   "execution_count": 30,
   "metadata": {},
   "outputs": [
    {
     "data": {
      "image/png": "[encoded data removed]",
      "text/plain": [
       "<Figure size 432x288 with 1 Axes>"
      ]
     },
     "metadata": {
      "needs_background": "light"
     },
     "output_type": "display_data"
    }
   ],
   "source": [
    "# plot accuracy\n",
    "percentile = np.arange(0, 0.01, 0.002)\n",
    "plt.plot(percentile,performance,label = \"accuracy\")\n",
    "plt.xlabel(\"Percentile\")\n",
    "plt.ylabel(\"Accuracy\")\n",
    "plt.xticks(percentile)\n",
    "plt.legend(loc=\"upper right\")\n",
    "plt.title(\"Jaccard Similarity Model Accuracy on varying Jaccard Similarity Thresholds\")\n",
    "plt.show()"
   ]
  },
  {
   "cell_type": "code",
   "execution_count": 17,
   "metadata": {},
   "outputs": [
    {
     "name": "stdout",
     "output_type": "stream",
     "text": [
      "A better threshold is 0.4 %, and the accuracy is 0.8068625\n"
     ]
    }
   ],
   "source": [
    "p2 = percentile[performance.index(max(performance))]\n",
    "print('A better threshold is', p2*100, '%, and the accuracy is', max(performance))"
   ]
  },
  {
   "cell_type": "markdown",
   "metadata": {},
   "source": [
    "### 3.4 Jaccard similarity * Popular"
   ]
  },
  {
   "cell_type": "code",
   "execution_count": 18,
   "metadata": {},
   "outputs": [],
   "source": [
    "## Calculate (Jaccard*Popular) values\n",
    "val = []\n",
    "for i in range(0, len(valid)):\n",
    "    user = valid.iloc[i,0]\n",
    "    item = valid.iloc[i,1]\n",
    "    n = itemCount[item]*avg_sim[i]\n",
    "    val.append(n)"
   ]
  },
  {
   "cell_type": "code",
   "execution_count": 19,
   "metadata": {},
   "outputs": [],
   "source": [
    "## Get accuracy for different thresholds\n",
    "performance = []\n",
    "for threshold in np.arange(0.1, 0.2, 0.02):\n",
    "    predict = [d>threshold for d in val]\n",
    "    n = accuracy(predict, valid[\"buy\"].tolist())\n",
    "    performance.append(n)"
   ]
  },
  {
   "cell_type": "code",
   "execution_count": 31,
   "metadata": {},
   "outputs": [
    {
     "data": {
      "image/png": "[encoded data removed]",
      "text/plain": [
       "<Figure size 432x288 with 1 Axes>"
      ]
     },
     "metadata": {
      "needs_background": "light"
     },
     "output_type": "display_data"
    }
   ],
   "source": [
    "# plot accuracy\n",
    "percentile = np.arange(0.1, 0.2, 0.02)\n",
    "plt.plot(percentile,performance,label = \"accuracy\")\n",
    "plt.xlabel(\"Percentile\")\n",
    "plt.ylabel(\"Accuracy\")\n",
    "plt.xticks(percentile)\n",
    "plt.legend(loc=\"upper right\")\n",
    "plt.title(\"Jaccard Popularity Product Model on varying Thresholds\")\n",
    "plt.show()"
   ]
  },
  {
   "cell_type": "code",
   "execution_count": 21,
   "metadata": {},
   "outputs": [
    {
     "name": "stdout",
     "output_type": "stream",
     "text": [
      "A better threshold is 0.14 , and the accuracy is 0.84335\n"
     ]
    }
   ],
   "source": [
    "p3 = percentile[performance.index(max(performance))]\n",
    "print('A better threshold is', round(p3,4), ', and the accuracy is', max(performance))"
   ]
  },
  {
   "cell_type": "markdown",
   "metadata": {},
   "source": [
    "### 3.5 Logistic regression"
   ]
  },
  {
   "cell_type": "code",
   "execution_count": 22,
   "metadata": {},
   "outputs": [],
   "source": [
    "## Variables included in Logistic Regression\n",
    "\n",
    "## 1\n",
    "## log10(total playtime of a user)\n",
    "## log(total item bought by a user)\n",
    "## log(total review given by a user) aka total number of reviews\n",
    "## Jaccard similarity (same jaccard as before)\n",
    "## log10(total count per item) aka popularity of item"
   ]
  },
  {
   "cell_type": "code",
   "execution_count": 23,
   "metadata": {},
   "outputs": [],
   "source": [
    "## Shuffle validation set\n",
    "valid = valid.sample(frac=1).reset_index(drop=True)\n",
    "## Build X and y for training and validation\n",
    "X = []\n",
    "for i in range(0, len(valid)):\n",
    "    user = valid.iloc[i,0]\n",
    "    item = valid.iloc[i,1]\n",
    "    sim = []\n",
    "    if user in all_user:\n",
    "        for items in itemsPerUser[user]:\n",
    "            s1, s2 = set(usersPerItem[item]), set(usersPerItem[items])\n",
    "            value = Jaccard(s1, s2)\n",
    "            sim.append(value)\n",
    "        avg_sim = np.nanmean(sim)\n",
    "        ## If avg similarity is nan, assign 0\n",
    "        if math.isnan(avg_sim) == 1:\n",
    "            avg_sim = 0\n",
    "        playtime, n_item, n_review = int(usersPlayTime[user]), usersItemCount[user], usersReview[user]\n",
    "    ## If the user hasn't appeared before, assign the avg value\n",
    "    else:\n",
    "        playtime, n_item = np.mean(list(usersPlayTime.values())), np.mean(list(usersItemCount.values()))\n",
    "        n_review, avg_sim = np.mean(list(usersReview.values())), 0\n",
    "    if item in all_item:\n",
    "        popu = itemCount[item]\n",
    "    ## If the item hasn't appeared before, assign the avg value\n",
    "    else:\n",
    "        popu = np.mean(list(itemCount.values()))\n",
    "    ## Transfer to log or log10(depending on how large the number is) when value is not 0\n",
    "    if playtime != 0:\n",
    "        playtime = math.log10(playtime)\n",
    "    if n_review != 0:\n",
    "        n_review = math.log(n_review)\n",
    "    if n_item != 0:\n",
    "        n_item = math.log(n_item)\n",
    "    ## get all variables in x\n",
    "    x = [1,playtime, n_item, n_review, avg_sim, math.log10(popu)]\n",
    "    X.append(x)\n",
    "y = valid[\"buy\"].tolist()"
   ]
  },
  {
   "cell_type": "code",
   "execution_count": 24,
   "metadata": {},
   "outputs": [
    {
     "name": "stderr",
     "output_type": "stream",
     "text": [
      "/usr/local/lib/python3.6/dist-packages/sklearn/linear_model/logistic.py:432: FutureWarning: Default solver will be changed to 'lbfgs' in 0.22. Specify a solver to silence this warning.\n",
      "  FutureWarning)\n"
     ]
    },
    {
     "data": {
      "text/plain": [
       "0.84679375"
      ]
     },
     "execution_count": 24,
     "metadata": {},
     "output_type": "execute_result"
    }
   ],
   "source": [
    "## Split X and y for training and validation\n",
    "X_train = X[:len(X)//2]\n",
    "y_train = y[:len(y)//2]\n",
    "X_valid = X[len(X)//2:]\n",
    "y_valid = y[len(y)//2:]\n",
    "## Fit the model\n",
    "mod = linear_model.LogisticRegression(C=10.0)\n",
    "mod.fit(X_train, y_train)\n",
    "valid_pred = mod.predict(X_valid)\n",
    "accuracy(y_valid, valid_pred)"
   ]
  },
  {
   "cell_type": "markdown",
   "metadata": {},
   "source": [
    "## 4. Test the final model (Logistic Regression)"
   ]
  },
  {
   "cell_type": "code",
   "execution_count": 25,
   "metadata": {},
   "outputs": [],
   "source": [
    "## Split data into training set and test set(0.8, 0.2)\n",
    "train_user, test_user = np.split(all_user_data.sample(frac=1), [int(.8*len(all_user_data))])\n",
    "## Create dictionaries\n",
    "itemsPerUser, usersPerItem = defaultdict(list), defaultdict(list)\n",
    "itemCount, usersPlayTime, usersItemCount, usersReview = defaultdict(int), defaultdict(int), defaultdict(int), defaultdict(int)\n",
    "for m in range(0, len(train_user)):\n",
    "    u = train_user.iloc[m,0]\n",
    "    i = train_user.iloc[m,1]\n",
    "    t = train_user.iloc[m,3]\n",
    "    itemsPerUser[u].append(i)\n",
    "    usersPerItem[i].append(u)\n",
    "    itemCount[i] += 1\n",
    "    usersItemCount[u] += 1\n",
    "    usersPlayTime[u] += int(t)\n",
    "n_user = len(itemsPerUser.keys())\n",
    "n_item = len(usersPerItem.keys())\n",
    "all_item = list(usersPerItem.keys())\n",
    "all_user = list(itemsPerUser.keys())\n",
    "for m in range(0, len(reviews)):\n",
    "    u = train_user.iloc[m,0]\n",
    "    usersReview[u] += 1"
   ]
  },
  {
   "cell_type": "code",
   "execution_count": 26,
   "metadata": {},
   "outputs": [],
   "source": [
    "## Shuffle test set\n",
    "test_user = test_user.sample(frac=1).reset_index(drop=True)\n",
    "X = []\n",
    "y = []\n",
    "for i in range(0, len(test_user)):\n",
    "    user = test_user.iloc[i,0]\n",
    "    item = test_user.iloc[i,1]\n",
    "    sim = []\n",
    "    if user in all_user:\n",
    "        for items in itemsPerUser[user]:\n",
    "            s1, s2 = set(usersPerItem[item]), set(usersPerItem[items])\n",
    "            value = Jaccard(s1, s2)\n",
    "            sim.append(value)\n",
    "        avg_sim = np.nanmean(sim)\n",
    "        ## If avg similarity is nan, assign 0\n",
    "        if math.isnan(avg_sim) == 1:\n",
    "            avg_sim = 0\n",
    "        playtime, n_item, n_review = int(usersPlayTime[user]), usersItemCount[user], usersReview[user]\n",
    "    ## If the user hasn't appeared before, assign the avg value\n",
    "    else:\n",
    "        playtime, n_item = np.mean(list(usersPlayTime.values())), np.mean(list(usersItemCount.values()))\n",
    "        n_review, avg_sim = np.mean(list(usersReview.values())), 0\n",
    "    if item in all_item:\n",
    "        popu = itemCount[item]\n",
    "    ## If the item hasn't appeared before, assign the avg value\n",
    "    else:\n",
    "        popu = np.mean(list(itemCount.values()))\n",
    "    ## Transfer to log or log10(depending on how large the number is) when value is not 0\n",
    "    if playtime != 0:\n",
    "        playtime = math.log10(playtime)\n",
    "    if n_review != 0:\n",
    "        n_review = math.log(n_review)\n",
    "    if n_item != 0:\n",
    "        n_item = math.log(n_item)\n",
    "    ## get all variables in x\n",
    "    x = [1,playtime, n_item, n_review, avg_sim, math.log10(popu)]\n",
    "    X.append(x)\n",
    "    y.append(1)"
   ]
  },
  {
   "cell_type": "code",
   "execution_count": 27,
   "metadata": {},
   "outputs": [
    {
     "data": {
      "text/plain": [
       "0.9041625"
      ]
     },
     "execution_count": 27,
     "metadata": {},
     "output_type": "execute_result"
    }
   ],
   "source": [
    "## Predict\n",
    "pred = mod.predict(X)\n",
    "accuracy(y, pred)"
   ]
  },
  {
   "cell_type": "code",
   "execution_count": 36,
   "metadata": {},
   "outputs": [
    {
     "data": {
      "text/plain": [
       "array([[-2.41672023e+00, -3.79828639e-02,  3.09967167e-01,\n",
       "         8.67837516e-02,  1.11964372e+02,  2.09964244e+00]])"
      ]
     },
     "execution_count": 36,
     "metadata": {},
     "output_type": "execute_result"
    }
   ],
   "source": [
    "mod.coef_"
   ]
  },
  {
   "cell_type": "code",
   "execution_count": 37,
   "metadata": {},
   "outputs": [
    {
     "data": {
      "text/plain": [
       "(10423.74493880442, 10.542441563575865, 0.569376089691245)"
      ]
     },
     "execution_count": 37,
     "metadata": {},
     "output_type": "execute_result"
    }
   ],
   "source": [
    "np.mean(list(usersPlayTime.values())), np.mean(list(usersItemCount.values())),np.mean(list(usersReview.values()))"
   ]
  },
  {
   "cell_type": "code",
   "execution_count": null,
   "metadata": {},
   "outputs": [],
   "source": []
  }
 ],
 "metadata": {
  "kernelspec": {
   "display_name": "Python 3",
   "language": "python",
   "name": "python3"
  },
  "language_info": {
   "codemirror_mode": {
    "name": "ipython",
    "version": 3
   },
   "file_extension": ".py",
   "mimetype": "text/x-python",
   "name": "python",
   "nbconvert_exporter": "python",
   "pygments_lexer": "ipython3",
   "version": "3.6.8"
  }
 },
 "nbformat": 4,
 "nbformat_minor": 4
}
